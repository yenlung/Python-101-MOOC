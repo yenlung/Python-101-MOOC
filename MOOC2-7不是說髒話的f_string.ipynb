{
  "nbformat": 4,
  "nbformat_minor": 0,
  "metadata": {
    "colab": {
      "provenance": [],
      "authorship_tag": "ABX9TyOydtpavnmVtzWhnP0TarFr",
      "include_colab_link": true
    },
    "kernelspec": {
      "name": "python3",
      "display_name": "Python 3"
    },
    "language_info": {
      "name": "python"
    }
  },
  "cells": [
    {
      "cell_type": "markdown",
      "metadata": {
        "id": "view-in-github",
        "colab_type": "text"
      },
      "source": [
        "<a href=\"https://colab.research.google.com/github/yenlung/Python-101-MOOC/blob/main/MOOC2-7%E4%B8%8D%E6%98%AF%E8%AA%AA%E9%AB%92%E8%A9%B1%E7%9A%84f_string.ipynb\" target=\"_parent\"><img src=\"https://colab.research.google.com/assets/colab-badge.svg\" alt=\"Open In Colab\"/></a>"
      ]
    },
    {
      "cell_type": "markdown",
      "source": [
        "## 1. 讀入標準套件"
      ],
      "metadata": {
        "id": "FnOPy-O4N1u9"
      }
    },
    {
      "cell_type": "code",
      "execution_count": null,
      "metadata": {
        "id": "SVk9JzZ1NrgI"
      },
      "outputs": [],
      "source": [
        "%matplotlib inline\n",
        "\n",
        "import numpy as np\n",
        "import pandas as pd\n",
        "import matplotlib.pyplot as plt"
      ]
    },
    {
      "cell_type": "markdown",
      "source": [
        "## 2. 露比醬，再一次"
      ],
      "metadata": {
        "id": "sMjUzcsDOEom"
      }
    },
    {
      "cell_type": "markdown",
      "source": [
        "用 `f-string` 真的很自由!"
      ],
      "metadata": {
        "id": "4j7HDDzPOmBT"
      }
    },
    {
      "cell_type": "code",
      "source": [
        "name = input(\"請輸入你的名字: \")"
      ],
      "metadata": {
        "colab": {
          "base_uri": "https://localhost:8080/"
        },
        "id": "cbFNw14mOBpM",
        "outputId": "3ae8c8d4-12b1-4476-e17e-fd4b8379a680"
      },
      "execution_count": null,
      "outputs": [
        {
          "name": "stdout",
          "output_type": "stream",
          "text": [
            "請輸入你的名字: 炎龍\n"
          ]
        }
      ]
    },
    {
      "cell_type": "code",
      "source": [
        "f\"{name}醬～嗨！\""
      ],
      "metadata": {
        "colab": {
          "base_uri": "https://localhost:8080/",
          "height": 35
        },
        "id": "X4T5g5_FOTSy",
        "outputId": "ca1ff376-a5ba-449b-f47c-cd93c225997c"
      },
      "execution_count": null,
      "outputs": [
        {
          "output_type": "execute_result",
          "data": {
            "text/plain": [
              "'炎龍醬～嗨！'"
            ],
            "application/vnd.google.colaboratory.intrinsic+json": {
              "type": "string"
            }
          },
          "metadata": {},
          "execution_count": 4
        }
      ]
    },
    {
      "cell_type": "code",
      "source": [
        "f\"你好, {name}, 很高興見到你!\""
      ],
      "metadata": {
        "colab": {
          "base_uri": "https://localhost:8080/",
          "height": 35
        },
        "id": "HfLdlGkQOZHG",
        "outputId": "0e339fe9-e5e6-424f-ec7c-6b28918870c0"
      },
      "execution_count": null,
      "outputs": [
        {
          "output_type": "execute_result",
          "data": {
            "text/plain": [
              "'你好, 炎龍, 很高興見到你!'"
            ],
            "application/vnd.google.colaboratory.intrinsic+json": {
              "type": "string"
            }
          },
          "metadata": {},
          "execution_count": 5
        }
      ]
    },
    {
      "cell_type": "markdown",
      "source": [
        "### 3. BMI 計算機"
      ],
      "metadata": {
        "id": "fIZCB1gZOqBf"
      }
    },
    {
      "cell_type": "code",
      "source": [
        "def cal_bmi(weight, height):\n",
        "    weight = float(weight)\n",
        "    height = float(height)/100\n",
        "    return weight / (height ** 2)"
      ],
      "metadata": {
        "id": "eITTnpKCOj2e"
      },
      "execution_count": null,
      "outputs": []
    },
    {
      "cell_type": "code",
      "source": [
        "bmi=cal_bmi(60, 170)"
      ],
      "metadata": {
        "id": "wTTvqX8CO6nA"
      },
      "execution_count": null,
      "outputs": []
    },
    {
      "cell_type": "code",
      "source": [
        "print(f\"你的 BMI 是 {bmi}!\")"
      ],
      "metadata": {
        "colab": {
          "base_uri": "https://localhost:8080/"
        },
        "id": "EsDU6j53O_-r",
        "outputId": "07f8a8b7-9711-4123-91d3-2b3a4bf35f52"
      },
      "execution_count": null,
      "outputs": [
        {
          "output_type": "stream",
          "name": "stdout",
          "text": [
            "你的 BMI 是 20.761245674740486!\n"
          ]
        }
      ]
    },
    {
      "cell_type": "code",
      "source": [
        "print(f\"你的 BMI 是 {bmi:.2f}。\")"
      ],
      "metadata": {
        "colab": {
          "base_uri": "https://localhost:8080/"
        },
        "id": "DzFEyus4PJxy",
        "outputId": "457025b3-96e4-4431-a174-694dbd175586"
      },
      "execution_count": null,
      "outputs": [
        {
          "output_type": "stream",
          "name": "stdout",
          "text": [
            "你的 BMI 是 20.76\n"
          ]
        }
      ]
    },
    {
      "cell_type": "code",
      "source": [],
      "metadata": {
        "id": "647f9EiDPUr5"
      },
      "execution_count": null,
      "outputs": []
    }
  ]
}