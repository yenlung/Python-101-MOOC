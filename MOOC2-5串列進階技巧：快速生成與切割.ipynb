{
  "cells": [
    {
      "cell_type": "markdown",
      "metadata": {
        "id": "view-in-github",
        "colab_type": "text"
      },
      "source": [
        "<a href=\"https://colab.research.google.com/github/yenlung/Python-101-MOOC/blob/main/MOOC2-5%E4%B8%B2%E5%88%97%E9%80%B2%E9%9A%8E%E6%8A%80%E5%B7%A7%EF%BC%9A%E5%BF%AB%E9%80%9F%E7%94%9F%E6%88%90%E8%88%87%E5%88%87%E5%89%B2.ipynb\" target=\"_parent\"><img src=\"https://colab.research.google.com/assets/colab-badge.svg\" alt=\"Open In Colab\"/></a>"
      ]
    },
    {
      "cell_type": "markdown",
      "id": "c0e33c65",
      "metadata": {
        "id": "c0e33c65"
      },
      "source": [
        "## 🎯 本課重點\n",
        "本單元是第一週的延伸補充，學習更有效率操作 list 的技巧，包含：\n",
        "\n",
        "- 快速產生串列（list comprehension）\n",
        "- 串列的索引、切片與倒序取法\n",
        "- 與 ChatGPT 協作設計更酷的練習題目\n"
      ]
    },
    {
      "cell_type": "markdown",
      "source": [
        "## 1. 讀入標準套件"
      ],
      "metadata": {
        "id": "YH6g5khL5msR"
      },
      "id": "YH6g5khL5msR"
    },
    {
      "cell_type": "code",
      "source": [
        "%matplotlib inline\n",
        "\n",
        "import numpy as np\n",
        "import pandas as pd\n",
        "import matplotlib.pyplot as plt"
      ],
      "metadata": {
        "id": "tKpUnkfD5mLB"
      },
      "id": "tKpUnkfD5mLB",
      "execution_count": null,
      "outputs": []
    },
    {
      "cell_type": "markdown",
      "id": "f87002f7",
      "metadata": {
        "id": "f87002f7"
      },
      "source": [
        "## 2. 快速生成串列：List Comprehension"
      ]
    },
    {
      "cell_type": "code",
      "execution_count": null,
      "id": "a0b71c6f",
      "metadata": {
        "colab": {
          "base_uri": "https://localhost:8080/"
        },
        "id": "a0b71c6f",
        "outputId": "4d9987ea-c55c-4a73-bd1c-24fcee32ed7f"
      },
      "outputs": [
        {
          "output_type": "stream",
          "name": "stdout",
          "text": [
            "[0, 1, 4, 9, 16, 25, 36, 49, 64, 81]\n"
          ]
        }
      ],
      "source": [
        "squares = [i**2 for i in range(10)]\n",
        "print(squares)"
      ]
    },
    {
      "cell_type": "markdown",
      "id": "8eaefdbc",
      "metadata": {
        "id": "8eaefdbc"
      },
      "source": [
        "你也可以加條件，例如只選出偶數的平方："
      ]
    },
    {
      "cell_type": "code",
      "execution_count": null,
      "id": "dc35a78b",
      "metadata": {
        "colab": {
          "base_uri": "https://localhost:8080/"
        },
        "id": "dc35a78b",
        "outputId": "d8a04e91-9381-4ee0-dffd-029ba8e57bda"
      },
      "outputs": [
        {
          "output_type": "stream",
          "name": "stdout",
          "text": [
            "[0, 4, 16, 36, 64]\n"
          ]
        }
      ],
      "source": [
        "even_squares = [i**2 for i in range(10) if i % 2 == 0]\n",
        "print(even_squares)"
      ]
    },
    {
      "cell_type": "markdown",
      "id": "a3157b98",
      "metadata": {
        "id": "a3157b98"
      },
      "source": [
        "## 3. 把字串轉成 list（每個字元變成一格）"
      ]
    },
    {
      "cell_type": "code",
      "execution_count": null,
      "id": "f3cd79f2",
      "metadata": {
        "colab": {
          "base_uri": "https://localhost:8080/"
        },
        "id": "f3cd79f2",
        "outputId": "60c45645-2714-4c7a-a7af-35c4b5bd3785"
      },
      "outputs": [
        {
          "output_type": "stream",
          "name": "stdout",
          "text": [
            "['A', 'B', 'C', 'D', 'E', 'F', 'G', 'H', 'I', 'J', 'K']\n"
          ]
        }
      ],
      "source": [
        "name = list(\"ABCDEFGHIJK\")\n",
        "print(name)"
      ]
    },
    {
      "cell_type": "markdown",
      "id": "7b1ba15b",
      "metadata": {
        "id": "7b1ba15b"
      },
      "source": [
        "## 4. 索引操作：正向與反向"
      ]
    },
    {
      "cell_type": "code",
      "execution_count": null,
      "id": "e9cc1ec9",
      "metadata": {
        "colab": {
          "base_uri": "https://localhost:8080/"
        },
        "id": "e9cc1ec9",
        "outputId": "362d2483-6fe7-4e67-9cbc-cda0a2bc495b"
      },
      "outputs": [
        {
          "output_type": "stream",
          "name": "stdout",
          "text": [
            "C\n",
            "K\n"
          ]
        }
      ],
      "source": [
        "print(name[2])   # 第 3 個\n",
        "print(name[-1])  # 最後一個"
      ]
    },
    {
      "cell_type": "markdown",
      "id": "e547cc72",
      "metadata": {
        "id": "e547cc72"
      },
      "source": [
        "## 5. 切片技巧"
      ]
    },
    {
      "cell_type": "code",
      "execution_count": null,
      "id": "7598ef51",
      "metadata": {
        "colab": {
          "base_uri": "https://localhost:8080/"
        },
        "id": "7598ef51",
        "outputId": "a0e34c4e-3f75-498d-e641-543dec5d5d30"
      },
      "outputs": [
        {
          "output_type": "stream",
          "name": "stdout",
          "text": [
            "['D', 'E', 'F']\n",
            "['A', 'B', 'C', 'D', 'E']\n",
            "['F', 'G', 'H', 'I', 'J', 'K']\n",
            "['K', 'J', 'I', 'H', 'G', 'F', 'E', 'D', 'C', 'B', 'A']\n"
          ]
        }
      ],
      "source": [
        "print(name[3:6])   # 第 4 到 6 個\n",
        "print(name[:5])     # 前五個\n",
        "print(name[5:])     # 第 6 個之後\n",
        "print(name[::-1])   # 倒過來"
      ]
    },
    {
      "cell_type": "code",
      "execution_count": null,
      "id": "3e47b27f",
      "metadata": {
        "colab": {
          "base_uri": "https://localhost:8080/"
        },
        "id": "3e47b27f",
        "outputId": "020174af-fdab-42a9-9fe9-c16fbc693a80"
      },
      "outputs": [
        {
          "output_type": "stream",
          "name": "stdout",
          "text": [
            "['A', 'C', 'E', 'G', 'I', 'K']\n",
            "['K', 'I', 'G', 'E', 'C', 'A']\n"
          ]
        }
      ],
      "source": [
        "print(name[::2])   # 每隔一個取一個\n",
        "print(name[::-2])   # 每隔一個倒著取"
      ]
    },
    {
      "cell_type": "markdown",
      "id": "3ba2f033",
      "metadata": {
        "id": "3ba2f033"
      },
      "source": [
        "## 6. 二維 list（list of list）也可以這樣用"
      ]
    },
    {
      "cell_type": "code",
      "execution_count": null,
      "id": "aa74a2da",
      "metadata": {
        "id": "aa74a2da"
      },
      "outputs": [],
      "source": [
        "A = [[1, 2], [3, 4]]\n",
        "print(A[0])     # 第 0 列\n",
        "print(A[1][1])  # 第 1 列第 1 行"
      ]
    },
    {
      "cell_type": "markdown",
      "id": "a3673910",
      "metadata": {
        "id": "a3673910"
      },
      "source": [
        "## 🤖 ChatGPT 協助學習建議"
      ]
    },
    {
      "cell_type": "markdown",
      "id": "26a0eb53",
      "metadata": {
        "id": "26a0eb53"
      },
      "source": [
        "你可以問 ChatGPT：\n",
        "- 「我想把一個字串倒過來印，要怎麼做？」\n",
        "- 「怎麼產生一個 list 裡面是 1~100 的質數？」\n",
        "- 「List comprehension 和 for 迴圈有什麼差別？」"
      ]
    },
    {
      "cell_type": "markdown",
      "id": "9268c9df",
      "metadata": {
        "id": "9268c9df"
      },
      "source": [
        "## 📝 自己出題自己做 🌟"
      ]
    },
    {
      "cell_type": "markdown",
      "id": "40d9a851",
      "metadata": {
        "id": "40d9a851"
      },
      "source": [
        "- 做一個清單裡面放所有奇數（1~99）\n",
        "- 把一段英文句子拆成每個單字做成 list，再轉成每個字母的 list\n",
        "- 設計一個函式判斷是否為「回文 palindrome」（正著念、倒著念都一樣）"
      ]
    }
  ],
  "metadata": {
    "colab": {
      "provenance": [],
      "include_colab_link": true
    },
    "language_info": {
      "name": "python"
    },
    "kernelspec": {
      "name": "python3",
      "display_name": "Python 3"
    }
  },
  "nbformat": 4,
  "nbformat_minor": 5
}