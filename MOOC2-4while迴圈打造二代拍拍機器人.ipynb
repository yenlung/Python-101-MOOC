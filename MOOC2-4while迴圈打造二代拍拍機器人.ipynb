{
  "nbformat": 4,
  "nbformat_minor": 0,
  "metadata": {
    "colab": {
      "provenance": [],
      "authorship_tag": "ABX9TyOEvkN5AYVgg5UaLemJ/CuQ",
      "include_colab_link": true
    },
    "kernelspec": {
      "name": "python3",
      "display_name": "Python 3"
    },
    "language_info": {
      "name": "python"
    }
  },
  "cells": [
    {
      "cell_type": "markdown",
      "metadata": {
        "id": "view-in-github",
        "colab_type": "text"
      },
      "source": [
        "<a href=\"https://colab.research.google.com/github/yenlung/Python-101-MOOC/blob/main/MOOC2-4while%E8%BF%B4%E5%9C%88%E6%89%93%E9%80%A0%E4%BA%8C%E4%BB%A3%E6%8B%8D%E6%8B%8D%E6%A9%9F%E5%99%A8%E4%BA%BA.ipynb\" target=\"_parent\"><img src=\"https://colab.research.google.com/assets/colab-badge.svg\" alt=\"Open In Colab\"/></a>"
      ]
    },
    {
      "cell_type": "markdown",
      "source": [
        "## 🎯 本課重點\n",
        "\n",
        "1. `while` 迴圈當條件成立才執行\n",
        "2. 打造愛聊多久聊多久的拍拍機器人"
      ],
      "metadata": {
        "id": "Y-Uiw94razip"
      }
    },
    {
      "cell_type": "markdown",
      "source": [
        "## 1. 讀入標準套件"
      ],
      "metadata": {
        "id": "D7yPg5eBbJgz"
      }
    },
    {
      "cell_type": "code",
      "execution_count": null,
      "metadata": {
        "id": "PbIgSb11aWp0"
      },
      "outputs": [],
      "source": [
        "%matplotlib inline\n",
        "\n",
        "import numpy as np\n",
        "import pandas as pd\n",
        "import matplotlib.pyplot as plt"
      ]
    },
    {
      "cell_type": "markdown",
      "source": [
        "## 2. `for` 迴圈讓拍拍機器人多聊幾句"
      ],
      "metadata": {
        "id": "bxYjvOsHedzl"
      }
    },
    {
      "cell_type": "code",
      "source": [
        "for i in range(3):\n",
        "    prompt = input(\"> \")\n",
        "    reply = \"拍拍。\"\n",
        "    print(\"(*‘ v`*): \" + reply)\n",
        "    print()\n",
        "\n",
        "print(\"(*‘ v`*): 我先離開了, 祝你有美好的一天。\")"
      ],
      "metadata": {
        "colab": {
          "base_uri": "https://localhost:8080/"
        },
        "id": "Y85WHfsVelvZ",
        "outputId": "bbae998a-5923-441a-86fe-b545b8e3640e"
      },
      "execution_count": null,
      "outputs": [
        {
          "output_type": "stream",
          "name": "stdout",
          "text": [
            "> 我很難過\n",
            "(*‘ v`*): 拍拍。\n",
            "\n",
            "> 程式都不會寫\n",
            "(*‘ v`*): 拍拍。\n",
            "\n",
            "> 連 AI 都不理我\n",
            "(*‘ v`*): 拍拍。\n",
            "\n",
            "(*‘ v`*): 我先離開了, 祝你有美好的一天。\n"
          ]
        }
      ]
    },
    {
      "cell_type": "markdown",
      "source": [
        "## 2. `while` 迴圈是條件成立就一直執行"
      ],
      "metadata": {
        "id": "ntTKp5Z3fHTN"
      }
    },
    {
      "cell_type": "code",
      "source": [
        "c = 0\n",
        "\n",
        "while c < 3:\n",
        "    print(\"(*´∀`)~♥\")\n",
        "    c = c + 1"
      ],
      "metadata": {
        "colab": {
          "base_uri": "https://localhost:8080/"
        },
        "id": "punJn1_We6IV",
        "outputId": "1ed67781-4dba-4e44-a2ec-d2d74918ac81"
      },
      "execution_count": null,
      "outputs": [
        {
          "output_type": "stream",
          "name": "stdout",
          "text": [
            "(*´∀`)~♥\n",
            "(*´∀`)~♥\n",
            "(*´∀`)~♥\n"
          ]
        }
      ]
    },
    {
      "cell_type": "markdown",
      "source": [
        "## 3. 一直聊下去的拍拍機器人"
      ],
      "metadata": {
        "id": "tjU9siJjfmls"
      }
    },
    {
      "cell_type": "code",
      "source": [
        "bot_avatar = \"(*´∀`)~♥\"\n",
        "\n",
        "while True:\n",
        "    prompt = input(\"> \")\n",
        "\n",
        "    if \"bye\" in prompt:\n",
        "        reply = \"好哦, 下次再聊!\"\n",
        "        print(bot_avatar + \": \" + reply)\n",
        "        break\n",
        "    else:\n",
        "        reply = \"拍拍\"\n",
        "\n",
        "    print(bot_avatar + \": \" + reply)\n",
        "    print()"
      ],
      "metadata": {
        "colab": {
          "base_uri": "https://localhost:8080/"
        },
        "id": "ScT96MgCfPjf",
        "outputId": "0185feb6-e263-4d64-fc86-686616571a60"
      },
      "execution_count": null,
      "outputs": [
        {
          "output_type": "stream",
          "name": "stdout",
          "text": [
            "> 今天實在太難過了\n",
            "(*´∀`)~♥: 拍拍\n",
            "\n",
            "> 天氣真的太好\n",
            "(*´∀`)~♥: 拍拍\n",
            "\n",
            "> 結果還要上課!!\n",
            "(*´∀`)~♥: 拍拍\n",
            "\n",
            "> 我去上課了, bye!\n",
            "(*´∀`)~♥: 好哦, 下次再聊!\n"
          ]
        }
      ]
    },
    {
      "cell_type": "markdown",
      "source": [
        "## 4. 猜數字遊戲"
      ],
      "metadata": {
        "id": "IXsiZMyYg5nt"
      }
    },
    {
      "cell_type": "code",
      "source": [
        "ans = np.random.randint(1, 101)\n",
        "guess = 9487 # 設一個完全不可能的答案\n",
        "\n",
        "print(\"我想了一個 1-100 的數字, 你猜一下是哪一個?\")\n",
        "\n",
        "while guess != ans:\n",
        "    guess = int(input(\"請輸入你要猜的數字: \"))\n",
        "    if guess > ans:\n",
        "        print(\"太大了!\")\n",
        "    elif guess < ans:\n",
        "        print(\"太小了!\")\n",
        "    else:\n",
        "        print(\"太神了!\")\n",
        "    print()"
      ],
      "metadata": {
        "colab": {
          "base_uri": "https://localhost:8080/"
        },
        "id": "2GJlpQDngDFE",
        "outputId": "ef5d4afb-0893-46c1-8f9e-46382c909a4c"
      },
      "execution_count": null,
      "outputs": [
        {
          "output_type": "stream",
          "name": "stdout",
          "text": [
            "我想了一個 1-100 的數字, 你猜一下是哪一個?\n",
            "請輸入你要猜的數字: 50\n",
            "太大了!\n",
            "\n",
            "請輸入你要猜的數字: 25\n",
            "太大了!\n",
            "\n",
            "請輸入你要猜的數字: 12\n",
            "太神了!\n",
            "\n"
          ]
        }
      ]
    },
    {
      "cell_type": "markdown",
      "source": [
        "## 📝 自己出題自己做：創意練習區\n",
        "\n",
        "1. 前面的程式裡, 我們只有說 \"bye\" 才能跟拍拍機器人道別。這未免有點奇怪, 應該像 `[\"bye\", \"再見\", \"我要走了\", \"再聊\"]` 等等, 出現在句子中都是再見的意思。那要怎麼讓我們的拍拍機器人掌握各種再見情況呢? 你可以問 ChatGPT 該怎麼做, 務必完全理解原理。\n",
        "\n",
        "2. 改善你的拍拍機器人, 比如說不要每次都回應 \"拍拍\", 應該有更多可能。\n",
        "\n",
        "3. 改良我們的猜數字遊戲, 比如說正確答案是 87, 使用者如果猜 50, 要告訴他「51 到 100」。"
      ],
      "metadata": {
        "id": "eBuaGz0Yhy2d"
      }
    }
  ]
}