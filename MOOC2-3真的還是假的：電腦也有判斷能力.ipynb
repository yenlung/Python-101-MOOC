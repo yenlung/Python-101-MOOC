{
  "nbformat": 4,
  "nbformat_minor": 0,
  "metadata": {
    "colab": {
      "provenance": [],
      "authorship_tag": "ABX9TyN7/bsNA+gIzwiYBMzLDeNJ",
      "include_colab_link": true
    },
    "kernelspec": {
      "name": "python3",
      "display_name": "Python 3"
    },
    "language_info": {
      "name": "python"
    }
  },
  "cells": [
    {
      "cell_type": "markdown",
      "metadata": {
        "id": "view-in-github",
        "colab_type": "text"
      },
      "source": [
        "<a href=\"https://colab.research.google.com/github/yenlung/Python-101-MOOC/blob/main/MOOC2-3%E7%9C%9F%E7%9A%84%E9%82%84%E6%98%AF%E5%81%87%E7%9A%84%EF%BC%9A%E9%9B%BB%E8%85%A6%E4%B9%9F%E6%9C%89%E5%88%A4%E6%96%B7%E8%83%BD%E5%8A%9B.ipynb\" target=\"_parent\"><img src=\"https://colab.research.google.com/assets/colab-badge.svg\" alt=\"Open In Colab\"/></a>"
      ]
    },
    {
      "cell_type": "markdown",
      "source": [
        "## 🎯 本課重點\n",
        "\n",
        "1. 條件判斷\n",
        "2. 學習 `if`, `then`, `else` 程式寫法"
      ],
      "metadata": {
        "id": "Y-Uiw94razip"
      }
    },
    {
      "cell_type": "markdown",
      "source": [
        "## 1. 讀入標準套件"
      ],
      "metadata": {
        "id": "D7yPg5eBbJgz"
      }
    },
    {
      "cell_type": "code",
      "execution_count": null,
      "metadata": {
        "id": "PbIgSb11aWp0"
      },
      "outputs": [],
      "source": [
        "%matplotlib inline\n",
        "\n",
        "import numpy as np\n",
        "import pandas as pd\n",
        "import matplotlib.pyplot as plt"
      ]
    },
    {
      "cell_type": "markdown",
      "source": [
        "## 2. Python 的條件判斷"
      ],
      "metadata": {
        "id": "x6rZq5nQbWtN"
      }
    },
    {
      "cell_type": "markdown",
      "source": [
        "大於"
      ],
      "metadata": {
        "id": "cJZqJQ20bqui"
      }
    },
    {
      "cell_type": "code",
      "source": [
        "2>3"
      ],
      "metadata": {
        "colab": {
          "base_uri": "https://localhost:8080/"
        },
        "id": "hqE9J8FbbPtI",
        "outputId": "9b117576-6cc8-4c6e-b065-4455838584c5"
      },
      "execution_count": null,
      "outputs": [
        {
          "output_type": "execute_result",
          "data": {
            "text/plain": [
              "False"
            ]
          },
          "metadata": {},
          "execution_count": 2
        }
      ]
    },
    {
      "cell_type": "code",
      "source": [
        "a = 87"
      ],
      "metadata": {
        "id": "wK-E_F3jbagv"
      },
      "execution_count": null,
      "outputs": []
    },
    {
      "cell_type": "markdown",
      "source": [
        "小於"
      ],
      "metadata": {
        "id": "KW9XBVn2bsmP"
      }
    },
    {
      "cell_type": "code",
      "source": [
        "a < 94"
      ],
      "metadata": {
        "colab": {
          "base_uri": "https://localhost:8080/"
        },
        "id": "QFfaSZFhbkE1",
        "outputId": "f6d934ab-f246-48bd-ac23-f53cf05184a9"
      },
      "execution_count": null,
      "outputs": [
        {
          "output_type": "execute_result",
          "data": {
            "text/plain": [
              "True"
            ]
          },
          "metadata": {},
          "execution_count": 4
        }
      ]
    },
    {
      "cell_type": "markdown",
      "source": [
        "特別注意! 等於的用法。"
      ],
      "metadata": {
        "id": "VHcso5mHbvK1"
      }
    },
    {
      "cell_type": "code",
      "source": [
        "a == 94"
      ],
      "metadata": {
        "colab": {
          "base_uri": "https://localhost:8080/"
        },
        "id": "c_ZDicKWbli1",
        "outputId": "54c8740c-4511-435b-d41d-3acf77d58d5e"
      },
      "execution_count": null,
      "outputs": [
        {
          "output_type": "execute_result",
          "data": {
            "text/plain": [
              "False"
            ]
          },
          "metadata": {},
          "execution_count": 5
        }
      ]
    },
    {
      "cell_type": "markdown",
      "source": [
        "不等於"
      ],
      "metadata": {
        "id": "CJBdVGSKb2un"
      }
    },
    {
      "cell_type": "code",
      "source": [
        "a != 94"
      ],
      "metadata": {
        "colab": {
          "base_uri": "https://localhost:8080/"
        },
        "id": "liuka7_Cbov9",
        "outputId": "a4dd94d8-ae90-408c-d50d-941023822982"
      },
      "execution_count": null,
      "outputs": [
        {
          "output_type": "execute_result",
          "data": {
            "text/plain": [
              "True"
            ]
          },
          "metadata": {},
          "execution_count": 6
        }
      ]
    },
    {
      "cell_type": "markdown",
      "source": [
        "## 3. 文字也可以比較!"
      ],
      "metadata": {
        "id": "EFovLcuDb5no"
      }
    },
    {
      "cell_type": "code",
      "source": [
        "\"Z\" > \"B\""
      ],
      "metadata": {
        "colab": {
          "base_uri": "https://localhost:8080/"
        },
        "id": "3_K3KgD6bpim",
        "outputId": "9a1a3b5f-bb21-45a9-aff8-7225a4bfd0ee"
      },
      "execution_count": null,
      "outputs": [
        {
          "output_type": "execute_result",
          "data": {
            "text/plain": [
              "True"
            ]
          },
          "metadata": {},
          "execution_count": 7
        }
      ]
    },
    {
      "cell_type": "markdown",
      "source": [
        "就是字典的排列方式。"
      ],
      "metadata": {
        "id": "Lf2RjQxhcVva"
      }
    },
    {
      "cell_type": "code",
      "source": [
        "\"Zoo\" > \"Apple\""
      ],
      "metadata": {
        "colab": {
          "base_uri": "https://localhost:8080/"
        },
        "id": "nnDSs_y5cGAD",
        "outputId": "317de0ef-dd0e-4962-f415-694c434ce265"
      },
      "execution_count": null,
      "outputs": [
        {
          "output_type": "execute_result",
          "data": {
            "text/plain": [
              "True"
            ]
          },
          "metadata": {},
          "execution_count": 8
        }
      ]
    },
    {
      "cell_type": "markdown",
      "source": [
        "還有很實用的看某個詞有沒有在字串裡。"
      ],
      "metadata": {
        "id": "Ng-qPCB8d-OR"
      }
    },
    {
      "cell_type": "code",
      "source": [
        "prompt = \"今天真的太開心了!\""
      ],
      "metadata": {
        "id": "0yMFLiYneC0D"
      },
      "execution_count": null,
      "outputs": []
    },
    {
      "cell_type": "code",
      "source": [
        "\"難過\" in prompt"
      ],
      "metadata": {
        "colab": {
          "base_uri": "https://localhost:8080/"
        },
        "id": "PVq5x0hKeGZd",
        "outputId": "75b20278-c20a-446b-c14a-34e7b6ccd150"
      },
      "execution_count": null,
      "outputs": [
        {
          "output_type": "execute_result",
          "data": {
            "text/plain": [
              "False"
            ]
          },
          "metadata": {},
          "execution_count": 15
        }
      ]
    },
    {
      "cell_type": "code",
      "source": [
        "\"開心\" in prompt"
      ],
      "metadata": {
        "id": "ppaRcE3rePoy",
        "outputId": "8a08d7bd-51c8-4c95-ad90-614f3bb4aac3",
        "colab": {
          "base_uri": "https://localhost:8080/"
        }
      },
      "execution_count": null,
      "outputs": [
        {
          "output_type": "execute_result",
          "data": {
            "text/plain": [
              "True"
            ]
          },
          "metadata": {},
          "execution_count": 16
        }
      ]
    },
    {
      "cell_type": "markdown",
      "source": [
        "## 4. 其實 `True` 和 `False` 也是一種資料型態"
      ],
      "metadata": {
        "id": "CpRGOvqHcb6u"
      }
    },
    {
      "cell_type": "code",
      "source": [
        "P = True\n",
        "Q = False"
      ],
      "metadata": {
        "id": "dZMWYLpKcQhy"
      },
      "execution_count": null,
      "outputs": []
    },
    {
      "cell_type": "code",
      "source": [
        "P and Q"
      ],
      "metadata": {
        "colab": {
          "base_uri": "https://localhost:8080/"
        },
        "id": "fOSN9M-1cjWJ",
        "outputId": "f38b0261-f006-47f3-c9c6-c3496cf14e56"
      },
      "execution_count": null,
      "outputs": [
        {
          "output_type": "execute_result",
          "data": {
            "text/plain": [
              "False"
            ]
          },
          "metadata": {},
          "execution_count": 10
        }
      ]
    },
    {
      "cell_type": "code",
      "source": [
        "P or Q"
      ],
      "metadata": {
        "colab": {
          "base_uri": "https://localhost:8080/"
        },
        "id": "1LMBOzZQckec",
        "outputId": "2bbad633-f6a1-4d9d-ee11-5b02890c7ca1"
      },
      "execution_count": null,
      "outputs": [
        {
          "output_type": "execute_result",
          "data": {
            "text/plain": [
              "True"
            ]
          },
          "metadata": {},
          "execution_count": 11
        }
      ]
    },
    {
      "cell_type": "markdown",
      "source": [
        "## 5. 條件判斷式要怎麼寫呢?"
      ],
      "metadata": {
        "id": "M4DnCJokctBi"
      }
    },
    {
      "cell_type": "code",
      "source": [
        "grade = int(input(\"請輸入你的考試成績? \"))\n",
        "reply = \"\"\n",
        "\n",
        "if grade >= 80:\n",
        "    reply = \"沒什麼了不起!\"\n",
        "elif grade >= 60:\n",
        "    reply = \"及格就好了啦\"\n",
        "else:\n",
        "    reply = \"還可以, 下次再加油～\"\n",
        "\n",
        "print(\"(`・ω・´): \" + reply)"
      ],
      "metadata": {
        "colab": {
          "base_uri": "https://localhost:8080/"
        },
        "id": "-22dV3J1clUR",
        "outputId": "859ff120-eeb7-4397-fb0b-0ab1ca50ffd7"
      },
      "execution_count": null,
      "outputs": [
        {
          "output_type": "stream",
          "name": "stdout",
          "text": [
            "請輸入你的考試成績? 84\n",
            "(`・ω・´): 沒什麼了不起!\n"
          ]
        }
      ]
    }
  ]
}