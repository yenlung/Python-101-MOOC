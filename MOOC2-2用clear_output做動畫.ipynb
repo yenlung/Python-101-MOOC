{
  "nbformat": 4,
  "nbformat_minor": 0,
  "metadata": {
    "colab": {
      "provenance": [],
      "authorship_tag": "ABX9TyP/KGh3lxaebI1aWabGzsEh",
      "include_colab_link": true
    },
    "kernelspec": {
      "name": "python3",
      "display_name": "Python 3"
    },
    "language_info": {
      "name": "python"
    }
  },
  "cells": [
    {
      "cell_type": "markdown",
      "metadata": {
        "id": "view-in-github",
        "colab_type": "text"
      },
      "source": [
        "<a href=\"https://colab.research.google.com/github/yenlung/Python-101-MOOC/blob/main/MOOC2-2%E7%94%A8clear_output%E5%81%9A%E5%8B%95%E7%95%AB.ipynb\" target=\"_parent\"><img src=\"https://colab.research.google.com/assets/colab-badge.svg\" alt=\"Open In Colab\"/></a>"
      ]
    },
    {
      "cell_type": "markdown",
      "source": [
        "## 🎯 本課重點\n",
        "\n",
        "1. 帶著耍寶好玩的心寫程式\n",
        "2. clear_output 清除輸出"
      ],
      "metadata": {
        "id": "BSL4pvB8dRKN"
      }
    },
    {
      "cell_type": "markdown",
      "source": [
        "## 1. 讀入標準套件"
      ],
      "metadata": {
        "id": "QwV4jQB6dUK8"
      }
    },
    {
      "cell_type": "code",
      "execution_count": null,
      "metadata": {
        "id": "4lrZylCtcvaN"
      },
      "outputs": [],
      "source": [
        "%matplotlib inline\n",
        "\n",
        "import numpy as np\n",
        "import pandas as pd\n",
        "import matplotlib.pyplot as plt"
      ]
    },
    {
      "cell_type": "markdown",
      "source": [
        "## 2. 做進度條"
      ],
      "metadata": {
        "id": "7Jd0AxYLd4Io"
      }
    },
    {
      "cell_type": "code",
      "source": [
        "c = \"◼︎\""
      ],
      "metadata": {
        "id": "jYvwmVVHdM7R"
      },
      "execution_count": null,
      "outputs": []
    },
    {
      "cell_type": "code",
      "source": [
        "c * 5"
      ],
      "metadata": {
        "colab": {
          "base_uri": "https://localhost:8080/",
          "height": 35
        },
        "id": "5O5r16todwz-",
        "outputId": "019cde98-e315-44a8-b7b6-97fa0a104a54"
      },
      "execution_count": null,
      "outputs": [
        {
          "output_type": "execute_result",
          "data": {
            "text/plain": [
              "'◼︎◼︎◼︎◼︎◼︎'"
            ],
            "application/vnd.google.colaboratory.intrinsic+json": {
              "type": "string"
            }
          },
          "metadata": {},
          "execution_count": 5
        }
      ]
    },
    {
      "cell_type": "markdown",
      "source": [
        "`range` 也可以倒著走!"
      ],
      "metadata": {
        "id": "g662_HqEeCHj"
      }
    },
    {
      "cell_type": "code",
      "source": [
        "list(range(10,0,-1))"
      ],
      "metadata": {
        "colab": {
          "base_uri": "https://localhost:8080/"
        },
        "id": "hGXKLLWod-NM",
        "outputId": "8ba90487-3cfb-4112-9935-ab70c7bd5efd"
      },
      "execution_count": null,
      "outputs": [
        {
          "output_type": "execute_result",
          "data": {
            "text/plain": [
              "[10, 9, 8, 7, 6, 5, 4, 3, 2, 1]"
            ]
          },
          "metadata": {},
          "execution_count": 6
        }
      ]
    },
    {
      "cell_type": "code",
      "source": [
        "for n in range(10, 0, -1):\n",
        "    print(c * n)"
      ],
      "metadata": {
        "colab": {
          "base_uri": "https://localhost:8080/"
        },
        "id": "EtVa_N0VeBOD",
        "outputId": "764bad6b-6812-41d1-dd32-45e682b69d4d"
      },
      "execution_count": null,
      "outputs": [
        {
          "output_type": "stream",
          "name": "stdout",
          "text": [
            "◼︎◼︎◼︎◼︎◼︎◼︎◼︎◼︎◼︎◼︎\n",
            "◼︎◼︎◼︎◼︎◼︎◼︎◼︎◼︎◼︎\n",
            "◼︎◼︎◼︎◼︎◼︎◼︎◼︎◼︎\n",
            "◼︎◼︎◼︎◼︎◼︎◼︎◼︎\n",
            "◼︎◼︎◼︎◼︎◼︎◼︎\n",
            "◼︎◼︎◼︎◼︎◼︎\n",
            "◼︎◼︎◼︎◼︎\n",
            "◼︎◼︎◼︎\n",
            "◼︎◼︎\n",
            "◼︎\n"
          ]
        }
      ]
    },
    {
      "cell_type": "markdown",
      "source": [
        "## 3. `sleep` 讓程式執行不要那麼快"
      ],
      "metadata": {
        "id": "m6bkGgo5eL4T"
      }
    },
    {
      "cell_type": "code",
      "source": [
        "from time import sleep"
      ],
      "metadata": {
        "id": "eYN1PlAAeG2a"
      },
      "execution_count": null,
      "outputs": []
    },
    {
      "cell_type": "code",
      "source": [
        "for n in range(10, 0, -1):\n",
        "    print(c * n)\n",
        "    sleep(0.5)"
      ],
      "metadata": {
        "colab": {
          "base_uri": "https://localhost:8080/"
        },
        "id": "H7JrFqQfeUib",
        "outputId": "38dcbef0-7a4e-4eda-c1a4-2f233ceb6b4f"
      },
      "execution_count": null,
      "outputs": [
        {
          "output_type": "stream",
          "name": "stdout",
          "text": [
            "◼︎◼︎◼︎◼︎◼︎◼︎◼︎◼︎◼︎◼︎\n",
            "◼︎◼︎◼︎◼︎◼︎◼︎◼︎◼︎◼︎\n",
            "◼︎◼︎◼︎◼︎◼︎◼︎◼︎◼︎\n",
            "◼︎◼︎◼︎◼︎◼︎◼︎◼︎\n",
            "◼︎◼︎◼︎◼︎◼︎◼︎\n",
            "◼︎◼︎◼︎◼︎◼︎\n",
            "◼︎◼︎◼︎◼︎\n",
            "◼︎◼︎◼︎\n",
            "◼︎◼︎\n",
            "◼︎\n"
          ]
        }
      ]
    },
    {
      "cell_type": "markdown",
      "source": [
        "## 4. 真的會動的進度條!"
      ],
      "metadata": {
        "id": "cwE2koRGejpJ"
      }
    },
    {
      "cell_type": "code",
      "source": [
        "from IPython.display import clear_output"
      ],
      "metadata": {
        "id": "fdwUWr2TeY-S"
      },
      "execution_count": null,
      "outputs": []
    },
    {
      "cell_type": "code",
      "source": [
        "for n in range(10, 0, -1):\n",
        "    print(c * n)\n",
        "    sleep(0.7)\n",
        "    clear_output(wait=True)"
      ],
      "metadata": {
        "colab": {
          "base_uri": "https://localhost:8080/"
        },
        "id": "kqK6w144em94",
        "outputId": "35bd0c42-d092-4cff-888a-8b09f3f260d9"
      },
      "execution_count": null,
      "outputs": [
        {
          "output_type": "stream",
          "name": "stdout",
          "text": [
            "◼︎\n"
          ]
        }
      ]
    },
    {
      "cell_type": "markdown",
      "source": [
        "## 5. 跑動的 emoji"
      ],
      "metadata": {
        "id": "8JkKrXQBe7gJ"
      }
    },
    {
      "cell_type": "code",
      "source": [
        "emoji = \"🐶\""
      ],
      "metadata": {
        "id": "PKN0TMwCewBU"
      },
      "execution_count": null,
      "outputs": []
    },
    {
      "cell_type": "code",
      "source": [
        "for n in range(50):\n",
        "    print(\" \"*n + emoji)\n",
        "    sleep(0.3)\n",
        "    clear_output(wait=True)"
      ],
      "metadata": {
        "colab": {
          "base_uri": "https://localhost:8080/"
        },
        "id": "-Uzb_iCefBY3",
        "outputId": "6d8e8695-ef9c-4b04-bcc3-b0721bc509bd"
      },
      "execution_count": null,
      "outputs": [
        {
          "output_type": "stream",
          "name": "stdout",
          "text": [
            "                                                 🐶\n"
          ]
        }
      ]
    },
    {
      "cell_type": "markdown",
      "source": [
        "## 6. 耍寶的 $\\sin$"
      ],
      "metadata": {
        "id": "74Ul60_0feYv"
      }
    },
    {
      "cell_type": "code",
      "source": [
        "π = np.pi"
      ],
      "metadata": {
        "id": "OefHjiKkfIgm"
      },
      "execution_count": null,
      "outputs": []
    },
    {
      "cell_type": "code",
      "source": [
        "x = np.linspace(0, 2*π, 200)\n",
        "y = np.sin(x)\n",
        "plt.plot(x, y);"
      ],
      "metadata": {
        "colab": {
          "base_uri": "https://localhost:8080/",
          "height": 430
        },
        "id": "3-MSsfBafNo_",
        "outputId": "99c7bd20-c184-4f22-ef2b-b9a59d5f10c3"
      },
      "execution_count": null,
      "outputs": [
        {
          "output_type": "display_data",
          "data": {
            "text/plain": [
              "<Figure size 640x480 with 1 Axes>"
            ],
            "image/png": "[encoded data removed]"
          },
          "metadata": {}
        }
      ]
    },
    {
      "cell_type": "code",
      "source": [
        "x = np.linspace(0, 2*π, 20)"
      ],
      "metadata": {
        "id": "3tvdDQwkfmve"
      },
      "execution_count": null,
      "outputs": []
    },
    {
      "cell_type": "code",
      "source": [
        "for t in x:\n",
        "    print(int(np.sin(t)*10) + 10)"
      ],
      "metadata": {
        "colab": {
          "base_uri": "https://localhost:8080/"
        },
        "id": "3bmu5T4jfr8k",
        "outputId": "9f02b400-f47b-4d2d-eb84-c235427ec677"
      },
      "execution_count": null,
      "outputs": [
        {
          "output_type": "stream",
          "name": "stdout",
          "text": [
            "10\n",
            "13\n",
            "16\n",
            "18\n",
            "19\n",
            "19\n",
            "19\n",
            "17\n",
            "14\n",
            "11\n",
            "9\n",
            "6\n",
            "3\n",
            "1\n",
            "1\n",
            "1\n",
            "2\n",
            "4\n",
            "7\n",
            "10\n"
          ]
        }
      ]
    },
    {
      "cell_type": "code",
      "source": [
        "for t in x:\n",
        "    n = int(np.sin(t)*10) + 10  # 調整 sin 十倍大, 並平移使之都大於等於 0\n",
        "    print(\" \"*n + emoji)\n",
        "    sleep(0.5)\n",
        "    #clear_output(wait=True)"
      ],
      "metadata": {
        "colab": {
          "base_uri": "https://localhost:8080/"
        },
        "id": "aMecJ_aIftvc",
        "outputId": "c83644b0-addb-49a7-cc0e-f112883dbd07"
      },
      "execution_count": null,
      "outputs": [
        {
          "output_type": "stream",
          "name": "stdout",
          "text": [
            "          🐶\n",
            "             🐶\n",
            "                🐶\n",
            "                  🐶\n",
            "                   🐶\n",
            "                   🐶\n",
            "                   🐶\n",
            "                 🐶\n",
            "              🐶\n",
            "           🐶\n",
            "         🐶\n",
            "      🐶\n",
            "   🐶\n",
            " 🐶\n",
            " 🐶\n",
            " 🐶\n",
            "  🐶\n",
            "    🐶\n",
            "       🐶\n",
            "          🐶\n"
          ]
        }
      ]
    },
    {
      "cell_type": "code",
      "source": [],
      "metadata": {
        "id": "crnxzr0HfxkQ"
      },
      "execution_count": null,
      "outputs": []
    }
  ]
}