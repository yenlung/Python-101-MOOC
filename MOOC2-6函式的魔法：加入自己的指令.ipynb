{
  "cells": [
    {
      "cell_type": "markdown",
      "metadata": {
        "id": "view-in-github",
        "colab_type": "text"
      },
      "source": [
        "<a href=\"https://colab.research.google.com/github/yenlung/Python-101-MOOC/blob/main/MOOC2-6%E5%87%BD%E5%BC%8F%E7%9A%84%E9%AD%94%E6%B3%95%EF%BC%9A%E5%8A%A0%E5%85%A5%E8%87%AA%E5%B7%B1%E7%9A%84%E6%8C%87%E4%BB%A4.ipynb\" target=\"_parent\"><img src=\"https://colab.research.google.com/assets/colab-badge.svg\" alt=\"Open In Colab\"/></a>"
      ]
    },
    {
      "cell_type": "markdown",
      "id": "86c7ce4b",
      "metadata": {
        "id": "86c7ce4b"
      },
      "source": [
        "\n",
        "\n",
        "寫程式的時候，常常會重複做某件事嗎？把它包起來，取個名字，就可以一直叫它！\n",
        "\n",
        "這一課要學會：\n",
        "- 如何用 `def` 定義函式\n",
        "- 如何「呼叫」函式，並傳進參數、取得回傳值\n",
        "- 自己寫函式，讓程式有結構又可重用\n"
      ]
    },
    {
      "cell_type": "markdown",
      "source": [
        "## 1. 讀入標準套件"
      ],
      "metadata": {
        "id": "YeSYczjwM2B2"
      },
      "id": "YeSYczjwM2B2"
    },
    {
      "cell_type": "code",
      "source": [
        "%matplotlib inline\n",
        "\n",
        "import numpy as np\n",
        "import pandas as pd\n",
        "import matplotlib.pyplot as plt"
      ],
      "metadata": {
        "id": "CJCU-oomM05C"
      },
      "id": "CJCU-oomM05C",
      "execution_count": null,
      "outputs": []
    },
    {
      "cell_type": "markdown",
      "id": "83a06738",
      "metadata": {
        "id": "83a06738"
      },
      "source": [
        "## 2. 寫一個自己的函式"
      ]
    },
    {
      "cell_type": "code",
      "execution_count": null,
      "id": "b355f10f",
      "metadata": {
        "id": "b355f10f"
      },
      "outputs": [],
      "source": [
        "def say_hi(name):\n",
        "    print(name + \"醬～嗨！\")"
      ]
    },
    {
      "cell_type": "code",
      "source": [
        "say_hi(\"炎龍\")"
      ],
      "metadata": {
        "colab": {
          "base_uri": "https://localhost:8080/"
        },
        "id": "60PCGyx2NYL-",
        "outputId": "dc0759c9-99c6-4e2d-e890-3b0c980899d4"
      },
      "id": "60PCGyx2NYL-",
      "execution_count": null,
      "outputs": [
        {
          "output_type": "stream",
          "name": "stdout",
          "text": [
            "炎龍醬～嗨！\n"
          ]
        }
      ]
    },
    {
      "cell_type": "markdown",
      "id": "50d1f179",
      "metadata": {
        "id": "50d1f179"
      },
      "source": [
        "## 3. 函式可以計算東西，然後回傳"
      ]
    },
    {
      "cell_type": "code",
      "execution_count": null,
      "id": "cddd1433",
      "metadata": {
        "id": "cddd1433"
      },
      "outputs": [],
      "source": [
        "def square(x):\n",
        "    return x ** 2"
      ]
    },
    {
      "cell_type": "code",
      "source": [
        "square(3)"
      ],
      "metadata": {
        "colab": {
          "base_uri": "https://localhost:8080/"
        },
        "id": "yNieJx8fNegT",
        "outputId": "91655c82-e224-470e-8c17-d3f59ccf2f41"
      },
      "id": "yNieJx8fNegT",
      "execution_count": null,
      "outputs": [
        {
          "output_type": "execute_result",
          "data": {
            "text/plain": [
              "9"
            ]
          },
          "metadata": {},
          "execution_count": 5
        }
      ]
    },
    {
      "cell_type": "markdown",
      "source": [
        "和只是印出來有什麼差別呢?"
      ],
      "metadata": {
        "id": "2mXJlMNBNiVQ"
      },
      "id": "2mXJlMNBNiVQ"
    },
    {
      "cell_type": "code",
      "source": [
        "def g(x):\n",
        "    print(x**2)"
      ],
      "metadata": {
        "id": "OIPqtSlnNlQP"
      },
      "id": "OIPqtSlnNlQP",
      "execution_count": null,
      "outputs": []
    },
    {
      "cell_type": "code",
      "source": [
        "g(3)"
      ],
      "metadata": {
        "colab": {
          "base_uri": "https://localhost:8080/"
        },
        "id": "Z_-Sa0NPQ3R4",
        "outputId": "01c87b46-2e2e-4f18-f33c-ae4abc0db472"
      },
      "id": "Z_-Sa0NPQ3R4",
      "execution_count": null,
      "outputs": [
        {
          "output_type": "stream",
          "name": "stdout",
          "text": [
            "9\n"
          ]
        }
      ]
    },
    {
      "cell_type": "code",
      "source": [
        "a = square(3)\n",
        "b = g(3)"
      ],
      "metadata": {
        "colab": {
          "base_uri": "https://localhost:8080/"
        },
        "id": "Yvy5zlvWQ5XF",
        "outputId": "402817ea-1a71-4b29-ae94-7e9b9edf34eb"
      },
      "id": "Yvy5zlvWQ5XF",
      "execution_count": null,
      "outputs": [
        {
          "output_type": "stream",
          "name": "stdout",
          "text": [
            "9\n"
          ]
        }
      ]
    },
    {
      "cell_type": "code",
      "source": [
        "a"
      ],
      "metadata": {
        "colab": {
          "base_uri": "https://localhost:8080/"
        },
        "id": "wEYD4PUfQ9Op",
        "outputId": "de81a463-2340-4163-d33e-9790e97c9a0e"
      },
      "id": "wEYD4PUfQ9Op",
      "execution_count": null,
      "outputs": [
        {
          "output_type": "execute_result",
          "data": {
            "text/plain": [
              "9"
            ]
          },
          "metadata": {},
          "execution_count": 25
        }
      ]
    },
    {
      "cell_type": "code",
      "source": [
        "b"
      ],
      "metadata": {
        "id": "0bWGc51-Q-FP"
      },
      "id": "0bWGc51-Q-FP",
      "execution_count": null,
      "outputs": []
    },
    {
      "cell_type": "markdown",
      "id": "e6b75540",
      "metadata": {
        "id": "e6b75540"
      },
      "source": [
        "## 4. 拍拍機器人：寫一個回應用語的函式"
      ]
    },
    {
      "cell_type": "code",
      "execution_count": null,
      "id": "cb0806c9",
      "metadata": {
        "id": "cb0806c9"
      },
      "outputs": [],
      "source": [
        "def comfort_bot():\n",
        "    messages = [\"拍拍\", \"別氣餒\", \"喝杯水休息一下\", \"相信你可以的\"]\n",
        "    return np.random.choice(messages)\n"
      ]
    },
    {
      "cell_type": "code",
      "source": [
        "print(comfort_bot())"
      ],
      "metadata": {
        "colab": {
          "base_uri": "https://localhost:8080/"
        },
        "id": "WcoczhTKRMpj",
        "outputId": "43340aba-f06f-41a1-b9b8-fdb23941f9c9"
      },
      "id": "WcoczhTKRMpj",
      "execution_count": null,
      "outputs": [
        {
          "output_type": "stream",
          "name": "stdout",
          "text": [
            "拍拍\n"
          ]
        }
      ]
    },
    {
      "cell_type": "markdown",
      "id": "d1599fb9",
      "metadata": {
        "id": "d1599fb9"
      },
      "source": [
        "## 5. 函式裡可以放條件判斷"
      ]
    },
    {
      "cell_type": "code",
      "execution_count": null,
      "id": "fe257843",
      "metadata": {
        "id": "fe257843"
      },
      "outputs": [],
      "source": [
        "def score_to_grade(score):\n",
        "    if score >= 90:\n",
        "        return \"A\"\n",
        "    elif score >= 80:\n",
        "        return \"B\"\n",
        "    elif score >= 70:\n",
        "        return \"C\"\n",
        "    else:\n",
        "        return \"加油\"\n",
        "\n",
        "print(score_to_grade(85))"
      ]
    },
    {
      "cell_type": "markdown",
      "id": "b49dda8b",
      "metadata": {
        "id": "b49dda8b"
      },
      "source": [
        "## 6. 函式範例：softmax（常見在 AI 模型中）"
      ]
    },
    {
      "cell_type": "code",
      "source": [
        "def softmax0(x_list):\n",
        "    e_x = [np.exp(x) for x in x_list]\n",
        "    sum_e = sum(e_x)\n",
        "    return [e/sum_e for e in e_x]"
      ],
      "metadata": {
        "id": "JrMfIYixPqaz"
      },
      "id": "JrMfIYixPqaz",
      "execution_count": null,
      "outputs": []
    },
    {
      "cell_type": "code",
      "source": [
        "scores = [3.0, 2.2, 0.2]\n",
        "print(\"原始輸入：\", scores)\n",
        "print(\"softmax 結果：\", softmax0(scores))"
      ],
      "metadata": {
        "colab": {
          "base_uri": "https://localhost:8080/"
        },
        "id": "PjmA05pVP1s5",
        "outputId": "d251ea2c-7c57-4297-cdc0-2048b7399816"
      },
      "id": "PjmA05pVP1s5",
      "execution_count": null,
      "outputs": [
        {
          "output_type": "stream",
          "name": "stdout",
          "text": [
            "原始輸入： [3.0, 2.2, 0.2]\n",
            "softmax 結果： [np.float64(0.6621906872754134), np.float64(0.29754145556153255), np.float64(0.04026785716305401)]\n"
          ]
        }
      ]
    },
    {
      "cell_type": "markdown",
      "id": "d1244366",
      "metadata": {
        "id": "d1244366"
      },
      "source": [
        "## 🤖 ChatGPT 協助學習建議"
      ]
    },
    {
      "cell_type": "markdown",
      "id": "9c0e1563",
      "metadata": {
        "id": "9c0e1563"
      },
      "source": [
        "你可以問：\n",
        "- 「怎麼寫一個函式，把兩個字串合併在一起？」\n",
        "- 「我要寫一個可以計算圓面積的函式，要怎麼做？」\n",
        "- 「函式和變數的作用範圍有什麼差別？」\n"
      ]
    },
    {
      "cell_type": "markdown",
      "id": "821eb1ab",
      "metadata": {
        "id": "821eb1ab"
      },
      "source": [
        "## 📝 自己出題自己做 🌟"
      ]
    },
    {
      "cell_type": "markdown",
      "id": "d9a70513",
      "metadata": {
        "id": "d9a70513"
      },
      "source": [
        "- 寫一個函式，輸入體溫，回傳「正常」「微燒」「高燒」的文字\n",
        "- 寫一個函式，輸入一個英文名字，回傳一句客製化問候\n",
        "- 寫一個函式，輸入整數 `n`，回傳 n 的所有因數 list\n",
        "- 寫一個互動式拍拍機器人，使用 input() 和你對話 3 次，每次都給不同的鼓勵\n"
      ]
    }
  ],
  "metadata": {
    "colab": {
      "provenance": [],
      "include_colab_link": true
    },
    "language_info": {
      "name": "python"
    },
    "kernelspec": {
      "name": "python3",
      "display_name": "Python 3"
    }
  },
  "nbformat": 4,
  "nbformat_minor": 5
}