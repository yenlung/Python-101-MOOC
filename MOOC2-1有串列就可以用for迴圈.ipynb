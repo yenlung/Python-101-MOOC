{
  "nbformat": 4,
  "nbformat_minor": 0,
  "metadata": {
    "colab": {
      "provenance": [],
      "authorship_tag": "ABX9TyOr7cONvmWfhyWECzctw+uw",
      "include_colab_link": true
    },
    "kernelspec": {
      "name": "python3",
      "display_name": "Python 3"
    },
    "language_info": {
      "name": "python"
    }
  },
  "cells": [
    {
      "cell_type": "markdown",
      "metadata": {
        "id": "view-in-github",
        "colab_type": "text"
      },
      "source": [
        "<a href=\"https://colab.research.google.com/github/yenlung/Python-101-MOOC/blob/main/MOOC2-1%E6%9C%89%E4%B8%B2%E5%88%97%E5%B0%B1%E5%8F%AF%E4%BB%A5%E7%94%A8for%E8%BF%B4%E5%9C%88.ipynb\" target=\"_parent\"><img src=\"https://colab.research.google.com/assets/colab-badge.svg\" alt=\"Open In Colab\"/></a>"
      ]
    },
    {
      "cell_type": "markdown",
      "source": [
        "## 🎯 本課重點\n",
        "\n",
        "1. `for` 迴圈\n",
        "2. 用 `range` 快速生成串列"
      ],
      "metadata": {
        "id": "EqY_NGKINaRg"
      }
    },
    {
      "cell_type": "markdown",
      "source": [
        "## 1. 讀入標準套件"
      ],
      "metadata": {
        "id": "KvoM7IkiOhJ9"
      }
    },
    {
      "cell_type": "code",
      "execution_count": null,
      "metadata": {
        "id": "iygXrcVGNRRg"
      },
      "outputs": [],
      "source": [
        "%matplotlib inline\n",
        "\n",
        "import numpy as np\n",
        "import pandas as pd\n",
        "import matplotlib.pyplot as plt"
      ]
    },
    {
      "cell_type": "markdown",
      "source": [
        "## 2. `for` 迴圈把串列裡的元素一一取出"
      ],
      "metadata": {
        "id": "StB6cwwdOyun"
      }
    },
    {
      "cell_type": "code",
      "source": [
        "egg = [1, 2, 3, 4, 5]"
      ],
      "metadata": {
        "id": "lqoyQdILOvom"
      },
      "execution_count": null,
      "outputs": []
    },
    {
      "cell_type": "code",
      "source": [
        "egg"
      ],
      "metadata": {
        "colab": {
          "base_uri": "https://localhost:8080/"
        },
        "id": "Yrh1VPmsO_rS",
        "outputId": "1fd3a95c-5adb-4fbd-aed2-6c970bf3a25d"
      },
      "execution_count": null,
      "outputs": [
        {
          "output_type": "execute_result",
          "data": {
            "text/plain": [
              "[1, 2, 3, 4, 5]"
            ]
          },
          "metadata": {},
          "execution_count": 3
        }
      ]
    },
    {
      "cell_type": "code",
      "source": [
        "for i in egg:\n",
        "    print(i)"
      ],
      "metadata": {
        "colab": {
          "base_uri": "https://localhost:8080/"
        },
        "id": "UbkDlxhGPBEr",
        "outputId": "8e01bf02-a6c8-4808-a468-18bd641cfe00"
      },
      "execution_count": null,
      "outputs": [
        {
          "output_type": "stream",
          "name": "stdout",
          "text": [
            "1\n",
            "2\n",
            "3\n",
            "4\n",
            "5\n"
          ]
        }
      ]
    },
    {
      "cell_type": "markdown",
      "source": [
        "2 的某個次方。"
      ],
      "metadata": {
        "id": "5r_hrWPDQN3k"
      }
    },
    {
      "cell_type": "code",
      "source": [
        "for n in egg:\n",
        "    print(2**n)"
      ],
      "metadata": {
        "colab": {
          "base_uri": "https://localhost:8080/"
        },
        "id": "XDIep0UWPELH",
        "outputId": "5b2947ca-4e0e-4f80-8fe2-30d1871acefa"
      },
      "execution_count": null,
      "outputs": [
        {
          "output_type": "stream",
          "name": "stdout",
          "text": [
            "2\n",
            "4\n",
            "8\n",
            "16\n",
            "32\n"
          ]
        }
      ]
    },
    {
      "cell_type": "markdown",
      "source": [
        "## 3. 快速生成串列"
      ],
      "metadata": {
        "id": "LQT_yRN0Rszd"
      }
    },
    {
      "cell_type": "code",
      "source": [
        "list(range(3))"
      ],
      "metadata": {
        "colab": {
          "base_uri": "https://localhost:8080/"
        },
        "id": "M9dp9VWARv8u",
        "outputId": "c53e614d-e661-46fa-9dc1-2b443946d267"
      },
      "execution_count": null,
      "outputs": [
        {
          "output_type": "execute_result",
          "data": {
            "text/plain": [
              "[0, 1, 2]"
            ]
          },
          "metadata": {},
          "execution_count": 13
        }
      ]
    },
    {
      "cell_type": "code",
      "source": [
        "n = 8\n",
        "\n",
        "for k in range(n):\n",
        "    print(\"🐶\" * k)"
      ],
      "metadata": {
        "colab": {
          "base_uri": "https://localhost:8080/"
        },
        "id": "AsHPcOpKSRGZ",
        "outputId": "bdf02f0d-36d6-4796-f25d-3e806026171d"
      },
      "execution_count": null,
      "outputs": [
        {
          "output_type": "stream",
          "name": "stdout",
          "text": [
            "\n",
            "🐶\n",
            "🐶🐶\n",
            "🐶🐶🐶\n",
            "🐶🐶🐶🐶\n",
            "🐶🐶🐶🐶🐶\n",
            "🐶🐶🐶🐶🐶🐶\n",
            "🐶🐶🐶🐶🐶🐶🐶\n"
          ]
        }
      ]
    },
    {
      "cell_type": "markdown",
      "source": [
        "有沒有發現這和我們用過的 `randint` 是一樣的! 所以如果說要產成 [2, 3, 4, 5, 6] 應該要怎麼做呢?"
      ],
      "metadata": {
        "id": "PHAOKC5SSfKn"
      }
    },
    {
      "cell_type": "code",
      "source": [
        "list(range(2, 7))"
      ],
      "metadata": {
        "colab": {
          "base_uri": "https://localhost:8080/"
        },
        "id": "BIYsg10nSrJ4",
        "outputId": "31c10cc3-a6ed-41fb-ba70-65fbd9111856"
      },
      "execution_count": null,
      "outputs": [
        {
          "output_type": "execute_result",
          "data": {
            "text/plain": [
              "[2, 3, 4, 5, 6]"
            ]
          },
          "metadata": {},
          "execution_count": 16
        }
      ]
    },
    {
      "cell_type": "markdown",
      "source": [
        "## 4. 匯率換算\n",
        "\n",
        "這次我們去韓國玩, 想知道要換錢大約合台幣多少。"
      ],
      "metadata": {
        "id": "TJouYa3iQVqz"
      }
    },
    {
      "cell_type": "code",
      "source": [
        "exchange_rate = 0.022"
      ],
      "metadata": {
        "id": "eZ6m9k40POl6"
      },
      "execution_count": null,
      "outputs": []
    },
    {
      "cell_type": "code",
      "source": [
        "krw = [50000000, 1000000, 870000]"
      ],
      "metadata": {
        "id": "k9BWYi1yQpqt"
      },
      "execution_count": null,
      "outputs": []
    },
    {
      "cell_type": "code",
      "source": [
        "for a in krw:\n",
        "    print(str(a) + \" 韓元合台幣 \" + str(a * exchange_rate) + \" 元\")"
      ],
      "metadata": {
        "colab": {
          "base_uri": "https://localhost:8080/"
        },
        "id": "_nYblY25Q8Jf",
        "outputId": "45adfb06-d9b0-4b2a-98c4-d242a018433f"
      },
      "execution_count": null,
      "outputs": [
        {
          "output_type": "stream",
          "name": "stdout",
          "text": [
            "50000000 韓元合台幣 1100000.0 元\n",
            "1000000 韓元合台幣 22000.0 元\n",
            "870000 韓元合台幣 19140.0 元\n"
          ]
        }
      ]
    },
    {
      "cell_type": "markdown",
      "source": [],
      "metadata": {
        "id": "7eDO_mknSaFz"
      }
    },
    {
      "cell_type": "markdown",
      "source": [
        "### 5. 串列裡的元素也可以是字串"
      ],
      "metadata": {
        "id": "WRmitjtxSw7S"
      }
    },
    {
      "cell_type": "code",
      "source": [
        "city = [\"台北市\", \"台中市\", \"高雄市\"]"
      ],
      "metadata": {
        "id": "tT6hrj5zRXEC"
      },
      "execution_count": null,
      "outputs": []
    },
    {
      "cell_type": "code",
      "source": [
        "for c in city:\n",
        "    print(c)"
      ],
      "metadata": {
        "colab": {
          "base_uri": "https://localhost:8080/"
        },
        "id": "jIdC9rQ-S449",
        "outputId": "d36139e5-5300-458c-954e-ba3edac4de40"
      },
      "execution_count": null,
      "outputs": [
        {
          "output_type": "stream",
          "name": "stdout",
          "text": [
            "台北市\n",
            "台中市\n",
            "高雄市\n"
          ]
        }
      ]
    }
  ]
}